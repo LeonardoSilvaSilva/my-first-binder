{
 "cells": [
  {
   "cell_type": "markdown",
   "metadata": {
    "toc": "true"
   },
   "source": [
    "# Table of Contents\n",
    " <p><div class=\"lev1 toc-item\"><a href=\"#Modify-ecoinvent\" data-toc-modified-id=\"Modify-ecoinvent-1\"><span class=\"toc-item-num\">1&nbsp;&nbsp;</span>Modify ecoinvent</a></div><div class=\"lev1 toc-item\"><a href=\"#Prepare-additional-datasets\" data-toc-modified-id=\"Prepare-additional-datasets-2\"><span class=\"toc-item-num\">2&nbsp;&nbsp;</span>Prepare additional datasets</a></div><div class=\"lev2 toc-item\"><a href=\"#import-from-excel\" data-toc-modified-id=\"import-from-excel-21\"><span class=\"toc-item-num\">2.1&nbsp;&nbsp;</span>import from excel</a></div><div class=\"lev1 toc-item\"><a href=\"#Import-new-datasets-and-ecoinvent-into-Wurst-format\" data-toc-modified-id=\"Import-new-datasets-and-ecoinvent-into-Wurst-format-3\"><span class=\"toc-item-num\">3&nbsp;&nbsp;</span>Import new datasets and ecoinvent into Wurst format</a></div><div class=\"lev1 toc-item\"><a href=\"#Define-Image-scenarios-and-years-to-be-used:\" data-toc-modified-id=\"Define-Image-scenarios-and-years-to-be-used:-4\"><span class=\"toc-item-num\">4&nbsp;&nbsp;</span>Define Image scenarios and years to be used:</a></div><div class=\"lev1 toc-item\"><a href=\"#Modify-all-electricity-generation-and-market-datasets:\" data-toc-modified-id=\"Modify-all-electricity-generation-and-market-datasets:-5\"><span class=\"toc-item-num\">5&nbsp;&nbsp;</span>Modify all electricity generation and market datasets:</a></div><div class=\"lev1 toc-item\"><a href=\"#Run-standard-ecoinvent-through-the-same-code-without-the-changes-to-make-sure-all-databases-are-in-same-format\" data-toc-modified-id=\"Run-standard-ecoinvent-through-the-same-code-without-the-changes-to-make-sure-all-databases-are-in-same-format-6\"><span class=\"toc-item-num\">6&nbsp;&nbsp;</span>Run standard ecoinvent through the same code without the changes to make sure all databases are in same format</a></div>"
   ]
  },
  {
   "cell_type": "markdown",
   "metadata": {},
   "source": [
    "# Modify ecoinvent\n",
    "\n",
    "In this notebook we create new versions of ecoinvent to represent the future!\n",
    "\n",
    "We create 2 new versions of ecoinvent.\n",
    "\n",
    "1. ecoinvent 2040 BAU (Baseline), which is a 2040 version of ecoinvent based on the IMAGE BAU scenario\n",
    "2. ecoinvent 2040 450 (ClimPol), which is a 2040 version of ecoinvent based on the IMAGE 450 ppm scenario\n"
   ]
  },
  {
   "cell_type": "code",
   "execution_count": 1,
   "metadata": {},
   "outputs": [
    {
     "data": {
      "text/html": [
       "<style>.container { width:100% !important; }</style>"
      ],
      "text/plain": [
       "<IPython.core.display.HTML object>"
      ]
     },
     "execution_count": 1,
     "metadata": {},
     "output_type": "execute_result"
    }
   ],
   "source": [
    "from IPython.core.display import HTML\n",
    "HTML(\"<style>.container { width:100% !important; }</style>\")"
   ]
  },
  {
   "cell_type": "code",
   "execution_count": 2,
   "metadata": {
    "collapsed": true
   },
   "outputs": [],
   "source": [
    "%matplotlib inline"
   ]
  },
  {
   "cell_type": "markdown",
   "metadata": {},
   "source": [
    "Import useful libraries and set project:"
   ]
  },
  {
   "cell_type": "code",
   "execution_count": 3,
   "metadata": {
    "collapsed": true
   },
   "outputs": [],
   "source": [
    "%run initialize_notebook.ipynb"
   ]
  },
  {
   "cell_type": "markdown",
   "metadata": {},
   "source": [
    "Import functions that are written on top of Wurst:"
   ]
  },
  {
   "cell_type": "code",
   "execution_count": 4,
   "metadata": {
    "collapsed": true,
    "scrolled": false
   },
   "outputs": [],
   "source": [
    "%run _Functions_to_modify_ecoinvent.ipynb"
   ]
  },
  {
   "cell_type": "code",
   "execution_count": 5,
   "metadata": {},
   "outputs": [
    {
     "data": {
      "text/plain": [
       "Databases dictionary with 10 object(s):\n",
       "\tCSP\n",
       "\tCarma CCS\n",
       "\tCars\n",
       "\tCars ecoinvent\n",
       "\tEnergy Storage\n",
       "\tbiosphere3\n",
       "\tecoinvent\n",
       "\tecoinvent_2040_450\n",
       "\tecoinvent_2040_BAU\n",
       "\tecoinvent_unchanged"
      ]
     },
     "execution_count": 5,
     "metadata": {},
     "output_type": "execute_result"
    }
   ],
   "source": [
    "databases"
   ]
  },
  {
   "cell_type": "markdown",
   "metadata": {},
   "source": [
    "# Prepare additional datasets"
   ]
  },
  {
   "cell_type": "markdown",
   "metadata": {},
   "source": [
    "We import some additional datasets for processes such as CSP and carbon capture and storage electricity. These have been prepared in Simapro and exported. We have cleaned up the datasets and stored them in excel using Brightway input output functionality. We read them from excel here:"
   ]
  },
  {
   "cell_type": "markdown",
   "metadata": {},
   "source": [
    "## import from excel"
   ]
  },
  {
   "cell_type": "code",
   "execution_count": 6,
   "metadata": {
    "collapsed": true
   },
   "outputs": [],
   "source": [
    "for k, fp in {'Carma CCS': 'lci-Carma-CCS.xlsx', 'CSP': 'lci-CSP.xlsx'}.items():\n",
    "   \n",
    "    if k not in databases:\n",
    "        \n",
    "        sp = ExcelImporter(fp)\n",
    "        sp.apply_strategies()\n",
    "        sp.match_database(fields=[\"name\", \"unit\", \"location\"]) \n",
    "        sp.match_database('ecoinvent_unchanged',  fields=[\"reference product\", \"name\", \"unit\", \"location\"]) \n",
    "        sp.match_database('ecoinvent_unchanged',  fields=[ \"name\", \"unit\", \"location\"])\n",
    "        sp.write_database()\n",
    "        del sp\n",
    "        \n",
    "        lca = LCA({Database(k).random(): 1}, method=lcia_methods['CC'])\n",
    "        lca.lci()\n",
    "        lca.lcia()\n",
    "        print(lca.score)"
   ]
  },
  {
   "cell_type": "code",
   "execution_count": 7,
   "metadata": {},
   "outputs": [
    {
     "data": {
      "text/plain": [
       "Databases dictionary with 10 object(s):\n",
       "\tCSP\n",
       "\tCarma CCS\n",
       "\tCars\n",
       "\tCars ecoinvent\n",
       "\tEnergy Storage\n",
       "\tbiosphere3\n",
       "\tecoinvent\n",
       "\tecoinvent_2040_450\n",
       "\tecoinvent_2040_BAU\n",
       "\tecoinvent_unchanged"
      ]
     },
     "execution_count": 7,
     "metadata": {},
     "output_type": "execute_result"
    }
   ],
   "source": [
    "databases"
   ]
  },
  {
   "cell_type": "markdown",
   "metadata": {},
   "source": [
    "# Import new datasets and ecoinvent into Wurst format"
   ]
  },
  {
   "cell_type": "markdown",
   "metadata": {},
   "source": [
    "We are using the constructive geometries library (by Chris Mutel), which is still in it's infancy. There are some naming inconsistencies still, which we correct for in the following cell:"
   ]
  },
  {
   "cell_type": "code",
   "execution_count": 8,
   "metadata": {
    "collapsed": true
   },
   "outputs": [],
   "source": [
    "#these locations aren't found correctly by the constructive geometries library - we correct them here:\n",
    "fix_names= {'CSG' : 'CN-CSG',\n",
    "            'SGCC': 'CN-SGCC',\n",
    "             \n",
    "             'RFC' : 'US-RFC',\n",
    "             'SERC' : 'US-SERC',\n",
    "             'TRE': 'US-TRE',\n",
    "             'ASCC': 'US-ASCC',\n",
    "             'HICC': 'US-HICC',\n",
    "             'FRCC': 'US-FRCC',\n",
    "             'SPP' : 'US-SPP',\n",
    "            'MRO, US only' : 'US-MRO', \n",
    "             'NPCC, US only': 'US-NPCC', \n",
    "             'WECC, US only': 'US-WECC',\n",
    "             \n",
    "             'IAI Area, Africa':'IAI Area 1, Africa',\n",
    "             'IAI Area, South America':'IAI Area 3, South America', \n",
    "             'IAI Area, Asia, without China and GCC':'IAI Area 4&5, without China', \n",
    "             'IAI Area, North America, without Quebec':'IAI Area 2, without Quebec',\n",
    "             'IAI Area, Gulf Cooperation Council':'IAI Area 8, Gulf'\n",
    "            }\n",
    "\n",
    "fix_names_back = {v:k for k,v in fix_names.items()}\n",
    "\n",
    "\n",
    "def rename_locations(db, name_dict):\n",
    "    for ds in db:\n",
    "        if ds['location'] in name_dict:\n",
    "            ds['location'] = name_dict[ds['location']]\n",
    "\n",
    "        for exc in technosphere(ds):\n",
    "            if exc['location'] in name_dict:\n",
    "                exc['location'] = name_dict[exc['location']]\n",
    "    \n"
   ]
  },
  {
   "cell_type": "markdown",
   "metadata": {},
   "source": [
    "# Define Image scenarios and years to be used:"
   ]
  },
  {
   "cell_type": "markdown",
   "metadata": {},
   "source": [
    "Here we set the scenarios and years for which we want to use when creating a new version of ecoinvent:"
   ]
  },
  {
   "cell_type": "code",
   "execution_count": 9,
   "metadata": {
    "collapsed": true
   },
   "outputs": [],
   "source": [
    "database_dict = collections.defaultdict(dict)\n",
    "\n",
    "database_dict['ecoinvent_2040_BAU'] = {'year' : 2040 , 'scenario' : 'BAU'}\n",
    "database_dict['ecoinvent_2040_450'] = {'year' : 2040 , 'scenario' : '450'}    "
   ]
  },
  {
   "cell_type": "markdown",
   "metadata": {},
   "source": [
    "# Modify all electricity generation and market datasets:"
   ]
  },
  {
   "cell_type": "markdown",
   "metadata": {},
   "source": [
    "This cell uses the Wurst functionality as well as the functions that we wrote in the notebook \"_Functions_to_modify_ecoinvent.ipynb\" to make the changes to ecoinvent:"
   ]
  },
  {
   "cell_type": "code",
   "execution_count": 11,
   "metadata": {
    "scrolled": false
   },
   "outputs": [
    {
     "name": "stdout",
     "output_type": "stream",
     "text": [
      "Getting activity data\n"
     ]
    },
    {
     "name": "stderr",
     "output_type": "stream",
     "text": [
      "100%|██████████████████████████████████████████████████████████████████████████████████████████████| 15060/15060 [00:02<00:00, 6565.86it/s]\n"
     ]
    },
    {
     "name": "stdout",
     "output_type": "stream",
     "text": [
      "Adding exchange data to activities\n"
     ]
    },
    {
     "name": "stderr",
     "output_type": "stream",
     "text": [
      "100%|███████████████████████████████████████████████████████████████████████████████████████████| 523406/523406 [00:33<00:00, 15576.54it/s]\n"
     ]
    },
    {
     "name": "stdout",
     "output_type": "stream",
     "text": [
      "Filling out exchange data\n"
     ]
    },
    {
     "name": "stderr",
     "output_type": "stream",
     "text": [
      "100%|██████████████████████████████████████████████████████████████████████████████████████████████| 15060/15060 [00:04<00:00, 3257.98it/s]\n"
     ]
    },
    {
     "name": "stdout",
     "output_type": "stream",
     "text": [
      "ecoinvent_2040_BAU\n",
      "Changing electricity Markets\n",
      "Changing ecoinvent electricity generation datasets\n",
      "Changing  Coal ST\n",
      "Changing  Coal CHP\n",
      "Changing  Natural gas OC\n",
      "Changing  Natural gas CC\n",
      "Changing  Natural gas CHP\n",
      "Changing  Oil ST\n",
      "Changing  Oil CC\n",
      "Changing  Oil CHP\n",
      "Changing  Biomass ST\n",
      "Changing  Biomass CHP\n",
      "Changing  Biomass CC\n",
      "Changing  Nuclear\n",
      "Changing Carma electricity datasets\n",
      "Saving changes to excel\n",
      "15060 datasets\n",
      "609048 exchanges\n",
      "0 unlinked exchanges\n",
      "  \n"
     ]
    },
    {
     "name": "stderr",
     "output_type": "stream",
     "text": [
      "Writing activities to SQLite3 database:\n",
      "0% [##############################] 100% | ETA: 00:00:00\n",
      "Total time elapsed: 00:01:41\n"
     ]
    },
    {
     "name": "stdout",
     "output_type": "stream",
     "text": [
      "Title: Writing activities to SQLite3 database:\n",
      "  Started: 12/18/2018 09:13:47\n",
      "  Finished: 12/18/2018 09:15:29\n",
      "  Total time elapsed: 00:01:41\n",
      "  CPU %: 59.40\n",
      "  Memory %: 44.75\n",
      "Created database: ecoinvent_2040_BAU\n",
      "0.33130813650999147\n"
     ]
    },
    {
     "name": "stderr",
     "output_type": "stream",
     "text": [
      "\r",
      "0% [# ] 100% | ETA: 00:29:56"
     ]
    },
    {
     "name": "stdout",
     "output_type": "stream",
     "text": [
      "Getting activity data\n"
     ]
    },
    {
     "name": "stderr",
     "output_type": "stream",
     "text": [
      "100%|██████████████████████████████████████████████████████████████████████████████████████████████| 15060/15060 [00:03<00:00, 3935.83it/s]\n"
     ]
    },
    {
     "name": "stdout",
     "output_type": "stream",
     "text": [
      "Adding exchange data to activities\n"
     ]
    },
    {
     "name": "stderr",
     "output_type": "stream",
     "text": [
      "100%|███████████████████████████████████████████████████████████████████████████████████████████| 523406/523406 [00:39<00:00, 13093.66it/s]\n"
     ]
    },
    {
     "name": "stdout",
     "output_type": "stream",
     "text": [
      "Filling out exchange data\n"
     ]
    },
    {
     "name": "stderr",
     "output_type": "stream",
     "text": [
      "100%|██████████████████████████████████████████████████████████████████████████████████████████████| 15060/15060 [00:04<00:00, 3684.49it/s]\n"
     ]
    },
    {
     "name": "stdout",
     "output_type": "stream",
     "text": [
      "ecoinvent_2040_450\n",
      "Changing electricity Markets\n",
      "Changing ecoinvent electricity generation datasets\n",
      "Changing  Coal ST\n",
      "Changing  Coal CHP\n",
      "Changing  Natural gas OC\n",
      "Changing  Natural gas CC\n",
      "Changing  Natural gas CHP\n",
      "Changing  Oil ST\n",
      "Changing  Oil CC\n",
      "Changing  Oil CHP\n",
      "Changing  Biomass ST\n",
      "Changing  Biomass CHP\n",
      "Changing  Biomass CC\n",
      "Changing  Nuclear\n",
      "Changing Carma electricity datasets\n",
      "Saving changes to excel\n",
      "15060 datasets\n",
      "606462 exchanges\n",
      "0 unlinked exchanges\n",
      "  \n"
     ]
    },
    {
     "name": "stderr",
     "output_type": "stream",
     "text": [
      "Writing activities to SQLite3 database:\n",
      "0% [##############################] 100% | ETA: 00:00:00\n",
      "Total time elapsed: 00:01:45\n"
     ]
    },
    {
     "name": "stdout",
     "output_type": "stream",
     "text": [
      "Title: Writing activities to SQLite3 database:\n",
      "  Started: 12/18/2018 09:26:39\n",
      "  Finished: 12/18/2018 09:28:24\n",
      "  Total time elapsed: 00:01:45\n",
      "  CPU %: 57.10\n",
      "  Memory %: 46.87\n",
      "Created database: ecoinvent_2040_450\n",
      "0.6962862999117959\n"
     ]
    },
    {
     "name": "stderr",
     "output_type": "stream",
     "text": [
      "0% [##] 100% | ETA: 00:00:00\n",
      "Total time elapsed: 00:42:59\n"
     ]
    }
   ],
   "source": [
    "for key in pyprind.prog_bar(database_dict.keys()):\n",
    "    \n",
    "    \n",
    "    db = extract_brightway2_databases(['CSP','Carma CCS','ecoinvent_unchanged'])\n",
    "    default_global_location(db)\n",
    "    fix_unset_technosphere_and_production_exchange_locations(db)\n",
    "    #set_global_location_for_additional_datasets(db)\n",
    "    remove_nones(db)\n",
    "    rename_locations(db, fix_names)\n",
    "    #add_new_locations_to_added_datasets(input_db)\n",
    "    #regionalize_added_datasets(input_db)\n",
    "    add_negative_CO2_flows_for_biomass_CCS(db)\n",
    "    \n",
    "    year = database_dict[key]['year']\n",
    "    scenario = database_dict[key]['scenario']\n",
    "    \n",
    "    print(key)\n",
    "    # Electricity markets:\n",
    "    print('Changing electricity Markets')\n",
    "    market_changes = update_electricity_markets(db, year, scenario)\n",
    "    \n",
    "    #Electricity generation datasets:\n",
    "    print('Changing ecoinvent electricity generation datasets')\n",
    "    technology_changes = update_electricity_datasets_with_image_data(db, year, scenario, agg_func=np.average, update_efficiency = True, update_emissions = True)\n",
    "    \n",
    "    #Electricity generation datasets from project Carma\n",
    "    print('Changing Carma electricity datasets')\n",
    "    modify_all_carma_electricity_datasets(db, year, scenario)\n",
    "    \n",
    "    print('Saving changes to excel')\n",
    "    tech_df = pd.DataFrame.from_dict(technology_changes)\n",
    "    tech_df.index = pd.MultiIndex.from_tuples(tech_df.index)\n",
    "    tech_df=tech_df.T\n",
    "    tech_df = tech_df.set_index([('meta data','Image technology'),('meta data','name'),('meta data','location')], drop=True).sort_index()\n",
    "    market_df = pd.DataFrame.from_dict(market_changes).T\n",
    "    market_df = market_df.set_index([('meta data','name'),('meta data','location')], drop=True).sort_index().T\n",
    "\n",
    "    writer = pd.ExcelWriter('electricity changes '+ str(year) + ' '+ scenario + '.xlsx')\n",
    "    market_df.to_excel(writer, sheet_name = 'markets')\n",
    "    for tech in tech_df.index.levels[0]:\n",
    "        tech_df.loc[tech].dropna(how='all', axis=1).swaplevel(i=0,j=1, axis=1).T.to_excel(writer, sheet_name = tech)\n",
    "    writer.save()\n",
    "    del tech_df\n",
    "    del market_df\n",
    "    del writer\n",
    "    \n",
    "    \n",
    "    rename_locations(db, fix_names_back)\n",
    "    if key in databases:\n",
    "        del databases[key]\n",
    "\n",
    "    write_brightway2_database(db, key)\n",
    "    del db\n",
    "    \n",
    "        \n",
    "    lca = LCA({Database(key).random(): 1}, method=lcia_methods['CC'])\n",
    "    lca.lci()\n",
    "    lca.lcia()\n",
    "    print(lca.score)\n"
   ]
  },
  {
   "cell_type": "markdown",
   "metadata": {},
   "source": [
    "# Run standard ecoinvent through the same code without the changes to make sure all databases are in same format"
   ]
  },
  {
   "cell_type": "code",
   "execution_count": 9,
   "metadata": {},
   "outputs": [
    {
     "name": "stdout",
     "output_type": "stream",
     "text": [
      "Getting activity data\n"
     ]
    },
    {
     "name": "stderr",
     "output_type": "stream",
     "text": [
      "100%|██████████████████████████████████████████████████████████████████████████████████████████████| 15060/15060 [00:02<00:00, 5771.75it/s]\n"
     ]
    },
    {
     "name": "stdout",
     "output_type": "stream",
     "text": [
      "Adding exchange data to activities\n"
     ]
    },
    {
     "name": "stderr",
     "output_type": "stream",
     "text": [
      "100%|███████████████████████████████████████████████████████████████████████████████████████████| 523406/523406 [00:36<00:00, 14512.21it/s]\n"
     ]
    },
    {
     "name": "stdout",
     "output_type": "stream",
     "text": [
      "Filling out exchange data\n"
     ]
    },
    {
     "name": "stderr",
     "output_type": "stream",
     "text": [
      "100%|██████████████████████████████████████████████████████████████████████████████████████████████| 15060/15060 [00:03<00:00, 3871.08it/s]\n"
     ]
    },
    {
     "name": "stdout",
     "output_type": "stream",
     "text": [
      "15060 datasets\n",
      "523413 exchanges\n",
      "0 unlinked exchanges\n",
      "  \n"
     ]
    },
    {
     "name": "stderr",
     "output_type": "stream",
     "text": [
      "Writing activities to SQLite3 database:\n",
      "0% [##############################] 100% | ETA: 00:00:00\n",
      "Total time elapsed: 00:01:46\n"
     ]
    },
    {
     "name": "stdout",
     "output_type": "stream",
     "text": [
      "Title: Writing activities to SQLite3 database:\n",
      "  Started: 12/21/2018 10:43:30\n",
      "  Finished: 12/21/2018 10:45:17\n",
      "  Total time elapsed: 00:01:46\n",
      "  CPU %: 46.50\n",
      "  Memory %: 33.81\n",
      "Created database: ecoinvent\n",
      "230638447.19546476\n"
     ]
    }
   ],
   "source": [
    "key = 'ecoinvent'\n",
    "  \n",
    "db = extract_brightway2_databases(['CSP','Carma CCS','ecoinvent_unchanged'])\n",
    "default_global_location(db)\n",
    "fix_unset_technosphere_and_production_exchange_locations(db)\n",
    "#set_global_location_for_additional_datasets(db)\n",
    "remove_nones(db)\n",
    "rename_locations(db, fix_names)\n",
    "#add_new_locations_to_added_datasets(input_db)\n",
    "#regionalize_added_datasets(input_db)\n",
    "add_negative_CO2_flows_for_biomass_CCS(db)\n",
    "    \n",
    "rename_locations(db, fix_names_back)\n",
    "if key in databases:\n",
    "    del databases[key]\n",
    "\n",
    "write_brightway2_database(db, key)\n",
    "del db\n",
    "    \n",
    "        \n",
    "lca = LCA({Database(key).random(): 1}, method=lcia_methods['CC'])\n",
    "lca.lci()\n",
    "lca.lcia()\n",
    "print(lca.score)\n"
   ]
  },
  {
   "cell_type": "code",
   "execution_count": 10,
   "metadata": {},
   "outputs": [
    {
     "data": {
      "text/plain": [
       "Databases dictionary with 10 object(s):\n",
       "\tCSP\n",
       "\tCarma CCS\n",
       "\tCars\n",
       "\tCars ecoinvent\n",
       "\tEnergy Storage\n",
       "\tbiosphere3\n",
       "\tecoinvent\n",
       "\tecoinvent_2040_450\n",
       "\tecoinvent_2040_BAU\n",
       "\tecoinvent_unchanged"
      ]
     },
     "execution_count": 10,
     "metadata": {},
     "output_type": "execute_result"
    }
   ],
   "source": [
    "databases"
   ]
  },
  {
   "cell_type": "code",
   "execution_count": null,
   "metadata": {
    "collapsed": true
   },
   "outputs": [],
   "source": []
  }
 ],
 "metadata": {
  "kernelspec": {
   "display_name": "Python 3",
   "language": "python",
   "name": "python3"
  },
  "language_info": {
   "codemirror_mode": {
    "name": "ipython",
    "version": 3
   },
   "file_extension": ".py",
   "mimetype": "text/x-python",
   "name": "python",
   "nbconvert_exporter": "python",
   "pygments_lexer": "ipython3",
   "version": "3.6.6"
  },
  "toc": {
   "colors": {
    "hover_highlight": "#DAA520",
    "running_highlight": "#FF0000",
    "selected_highlight": "#FFD700"
   },
   "moveMenuLeft": true,
   "nav_menu": {
    "height": "85px",
    "width": "252px"
   },
   "navigate_menu": true,
   "number_sections": true,
   "sideBar": true,
   "threshold": 4,
   "toc_cell": true,
   "toc_section_display": "block",
   "toc_window_display": false,
   "widenNotebook": false
  }
 },
 "nbformat": 4,
 "nbformat_minor": 2
}
