{
 "cells": [
  {
   "cell_type": "markdown",
   "metadata": {},
   "source": [
    "In this notebook we add some additional LCI datasets into the newly created databases that we use to model cars, such as battery and fuel cell production, hydrogen tanks, and vehicle lightweighting by material replacement."
   ]
  },
  {
   "cell_type": "code",
   "execution_count": 1,
   "metadata": {},
   "outputs": [
    {
     "data": {
      "text/html": [
       "<style>.container { width:100% !important; }</style>"
      ],
      "text/plain": [
       "<IPython.core.display.HTML object>"
      ]
     },
     "execution_count": 1,
     "metadata": {},
     "output_type": "execute_result"
    }
   ],
   "source": [
    "from IPython.core.display import HTML\n",
    "HTML(\"<style>.container { width:100% !important; }</style>\")"
   ]
  },
  {
   "cell_type": "code",
   "execution_count": 2,
   "metadata": {
    "collapsed": true
   },
   "outputs": [],
   "source": [
    "%run initialize_notebook.ipynb"
   ]
  },
  {
   "cell_type": "code",
   "execution_count": 3,
   "metadata": {
    "collapsed": true
   },
   "outputs": [],
   "source": [
    "from bw2data.utils import *"
   ]
  },
  {
   "cell_type": "code",
   "execution_count": 4,
   "metadata": {},
   "outputs": [
    {
     "data": {
      "text/plain": [
       "Databases dictionary with 10 object(s):\n",
       "\tCSP\n",
       "\tCarma CCS\n",
       "\tCars\n",
       "\tCars ecoinvent\n",
       "\tEnergy Storage\n",
       "\tbiosphere3\n",
       "\tecoinvent\n",
       "\tecoinvent_2040_450\n",
       "\tecoinvent_2040_BAU\n",
       "\tecoinvent_unchanged"
      ]
     },
     "execution_count": 4,
     "metadata": {},
     "output_type": "execute_result"
    }
   ],
   "source": [
    "databases"
   ]
  },
  {
   "cell_type": "code",
   "execution_count": 5,
   "metadata": {
    "collapsed": true
   },
   "outputs": [],
   "source": [
    "ecoinvent_BAU = Database('ecoinvent_2040_BAU')\n",
    "ecoinvent_450 = Database('ecoinvent_2040_450')\n",
    "ecoinvent = Database('ecoinvent')\n",
    "\n",
    "db_names = {\n",
    "            'ecoinvent': ecoinvent,\n",
    "            #'ecoinvent_2040_BAU':ecoinvent_BAU, \n",
    "            #'ecoinvent_2040_450':ecoinvent_450\n",
    "           }\n",
    "\n",
    "db_name_dict = {\n",
    "            'ecoinvent': 'ecoinvent',\n",
    "            #'Baseline':'ecoinvent_2040_BAU', \n",
    "            #'ClimPol':'ecoinvent_2040_450'\n",
    "               }"
   ]
  },
  {
   "cell_type": "code",
   "execution_count": 6,
   "metadata": {
    "scrolled": false
   },
   "outputs": [
    {
     "name": "stdout",
     "output_type": "stream",
     "text": [
      "ecoinvent\n",
      "Extracted 7 worksheets in 0.80 seconds\n",
      "Applying strategy: csv_restore_tuples\n",
      "Applying strategy: csv_restore_booleans\n",
      "Applying strategy: csv_numerize\n",
      "Applying strategy: csv_drop_unknown\n",
      "Applying strategy: csv_add_missing_exchanges_section\n",
      "Applying strategy: normalize_units\n",
      "Applying strategy: normalize_biosphere_categories\n",
      "Applying strategy: normalize_biosphere_names\n",
      "Applying strategy: strip_biosphere_exc_locations\n",
      "Applying strategy: set_code_by_activity_hash\n",
      "Applying strategy: link_iterable_by_fields\n",
      "Applying strategy: assign_only_product_as_production\n",
      "Applying strategy: link_technosphere_by_activity_hash\n",
      "Applying strategy: drop_falsey_uncertainty_fields_but_keep_zeros\n",
      "Applying strategy: convert_uncertainty_types_to_integers\n",
      "Applying strategy: convert_activity_parameters_to_list\n",
      "Applied 16 strategies in 0.50 seconds\n",
      "Applying strategy: link_iterable_by_fields\n",
      "Applying strategy: link_iterable_by_fields\n",
      "Applying strategy: link_iterable_by_fields\n"
     ]
    },
    {
     "name": "stderr",
     "output_type": "stream",
     "text": [
      "Writing activities to SQLite3 database:\n",
      "0% [##############################] 100% | ETA: 00:00:00\n",
      "Total time elapsed: 00:00:00\n"
     ]
    },
    {
     "name": "stdout",
     "output_type": "stream",
     "text": [
      "Title: Writing activities to SQLite3 database:\n",
      "  Started: 12/21/2018 10:49:42\n",
      "  Finished: 12/21/2018 10:49:43\n",
      "  Total time elapsed: 00:00:00\n",
      "  CPU %: 70.60\n",
      "  Memory %: 2.85\n",
      "Created database: Additional datasets\n"
     ]
    }
   ],
   "source": [
    "from bw2data.utils import *\n",
    "for db_name, db in db_names.items():\n",
    "    print(db_name)\n",
    "\n",
    "    fp = \"Additional datasets.xlsx\"\n",
    "    sp = ExcelImporter(fp)\n",
    "    sp.apply_strategies()  \n",
    "    sp.match_database(fields=[\"name\", \"unit\", \"location\"])\n",
    "    sp.match_database(db_name,  fields=[\"reference product\", \"name\", \"unit\", \"location\"])\n",
    "    sp.match_database(db_name,  fields=[ \"name\", \"unit\", \"location\"])\n",
    "    \n",
    "    if not list(sp.unlinked): sp.write_database()\n",
    "    else: \n",
    "        [print(x) for x in sp.unlinked] \n",
    "        if len(list(sp.unlinked)) == 1 and list(sp.unlinked)[0]['name'] =='Oxygen':\n",
    "            sp.drop_unlinked(i_am_reckless=True)\n",
    "            sp.write_database()\n",
    "    \n",
    "    merge_databases(db_name, sp.db_name)\n"
   ]
  },
  {
   "cell_type": "code",
   "execution_count": 7,
   "metadata": {},
   "outputs": [
    {
     "data": {
      "text/plain": [
       "Databases dictionary with 10 object(s):\n",
       "\tCSP\n",
       "\tCarma CCS\n",
       "\tCars\n",
       "\tCars ecoinvent\n",
       "\tEnergy Storage\n",
       "\tbiosphere3\n",
       "\tecoinvent\n",
       "\tecoinvent_2040_450\n",
       "\tecoinvent_2040_BAU\n",
       "\tecoinvent_unchanged"
      ]
     },
     "execution_count": 7,
     "metadata": {},
     "output_type": "execute_result"
    }
   ],
   "source": [
    "databases"
   ]
  },
  {
   "cell_type": "code",
   "execution_count": null,
   "metadata": {
    "collapsed": true
   },
   "outputs": [],
   "source": []
  },
  {
   "cell_type": "code",
   "execution_count": null,
   "metadata": {
    "collapsed": true
   },
   "outputs": [],
   "source": []
  }
 ],
 "metadata": {
  "kernelspec": {
   "display_name": "Python 3",
   "language": "python",
   "name": "python3"
  },
  "language_info": {
   "codemirror_mode": {
    "name": "ipython",
    "version": 3
   },
   "file_extension": ".py",
   "mimetype": "text/x-python",
   "name": "python",
   "nbconvert_exporter": "python",
   "pygments_lexer": "ipython3",
   "version": "3.6.6"
  },
  "toc": {
   "colors": {
    "hover_highlight": "#DAA520",
    "running_highlight": "#FF0000",
    "selected_highlight": "#FFD700"
   },
   "moveMenuLeft": true,
   "nav_menu": {
    "height": "12px",
    "width": "252px"
   },
   "navigate_menu": true,
   "number_sections": true,
   "sideBar": true,
   "threshold": 4,
   "toc_cell": false,
   "toc_section_display": "block",
   "toc_window_display": false,
   "widenNotebook": false
  }
 },
 "nbformat": 4,
 "nbformat_minor": 2
}
