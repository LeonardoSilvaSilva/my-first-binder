{
 "cells": [
  {
   "cell_type": "markdown",
   "metadata": {},
   "source": [
    "In this notebook we add carbon biosphere flows to the IPCC 2013 method so that we can have negative CO2 emissions from biomass CCS"
   ]
  },
  {
   "cell_type": "markdown",
   "metadata": {},
   "source": [
    "import useful libraries and set current project:"
   ]
  },
  {
   "cell_type": "code",
   "execution_count": 1,
   "metadata": {
    "collapsed": true
   },
   "outputs": [],
   "source": [
    "%run initialize_notebook.ipynb"
   ]
  },
  {
   "cell_type": "markdown",
   "metadata": {
    "collapsed": true
   },
   "source": [
    "# Create a new biosphere flow for non-fossil CO2 to geological storage."
   ]
  },
  {
   "cell_type": "code",
   "execution_count": 2,
   "metadata": {},
   "outputs": [
    {
     "data": {
      "text/plain": [
       "Brightway2 SQLiteBackend: biosphere3"
      ]
     },
     "execution_count": 2,
     "metadata": {},
     "output_type": "execute_result"
    }
   ],
   "source": [
    "biosphere = Database('biosphere3')\n",
    "biosphere"
   ]
  },
  {
   "cell_type": "code",
   "execution_count": 3,
   "metadata": {
    "collapsed": true
   },
   "outputs": [],
   "source": [
    "new_flow = biosphere.new_activity('CO2 to geological storage, non-fossil', **{'name': 'CO2 to geological storage, non-fossil',\n",
    "                                                                                'unit': 'kilogram',\n",
    "                                                                                'type': 'storage',\n",
    "                                                                                'categories': ('geological storage',)})\n",
    "\n",
    "new_flow.save()"
   ]
  },
  {
   "cell_type": "code",
   "execution_count": 4,
   "metadata": {},
   "outputs": [
    {
     "data": {
      "text/plain": [
       "'CO2 to geological storage, non-fossil' (kilogram, GLO, ('geological storage',))"
      ]
     },
     "execution_count": 4,
     "metadata": {},
     "output_type": "execute_result"
    }
   ],
   "source": [
    "co2_to_storage = [x for x in Database(\"biosphere3\") if 'CO2 to geological storage, non-fossil' in x['name']][0]\n",
    "\n",
    "co2_to_storage"
   ]
  },
  {
   "cell_type": "markdown",
   "metadata": {},
   "source": [
    "Step 2: add characterization for this flow - we will copy a flow for non-fossil CO2 to soil or biomass stock, as it will have the same characterisation factors. "
   ]
  },
  {
   "cell_type": "code",
   "execution_count": 5,
   "metadata": {},
   "outputs": [
    {
     "data": {
      "text/plain": [
       "'Carbon dioxide, to soil or biomass stock' (kilogram, None, ('soil',))"
      ]
     },
     "execution_count": 5,
     "metadata": {},
     "output_type": "execute_result"
    }
   ],
   "source": [
    "co2_to_soil = [x for x in Database(\"biosphere3\") if \"Carbon dioxide, to soil or biomass stock\" in str(x) and \"('soil',))\" in str(x)][0]\n",
    "co2_to_soil"
   ]
  },
  {
   "cell_type": "markdown",
   "metadata": {},
   "source": [
    "Here we have a list of methods that we want to add the flow to:\n"
   ]
  },
  {
   "cell_type": "code",
   "execution_count": 6,
   "metadata": {
    "collapsed": true
   },
   "outputs": [],
   "source": [
    "lcia_methods={\n",
    "    'CC':('IPCC 2013', 'climate change', 'GWP 100a'),\n",
    "    'TA':('ReCiPe Midpoint (H)', 'terrestrial acidification', 'TAP100'),\n",
    "    'POF':('ReCiPe Midpoint (H)','photochemical oxidant formation','POFP'),\n",
    "    'PMF':('ReCiPe Midpoint (H)', 'particulate matter formation', 'PMFP'),\n",
    "    'MD':('ReCiPe Midpoint (H)', 'metal depletion', 'MDP'),\n",
    "    'HT':('ReCiPe Midpoint (H)', 'human toxicity', 'HTPinf'),\n",
    "    'MET':('ReCiPe Midpoint (H)', 'marine ecotoxicity', 'METPinf'),\n",
    "    'ME':('ReCiPe Midpoint (H)', 'marine eutrophication', 'MEP'),\n",
    "    'FD':('ReCiPe Midpoint (H)', 'fossil depletion', 'FDP'),\n",
    "    'IR':('ReCiPe Midpoint (H)', 'ionising radiation', 'IRP_HE'),\n",
    "    'OD':('ReCiPe Midpoint (H)', 'ozone depletion', 'ODPinf'),\n",
    "    'FET':('ReCiPe Midpoint (H)', 'freshwater ecotoxicity', 'FETPinf'),\n",
    "    'TET':('ReCiPe Midpoint (H)', 'terrestrial ecotoxicity', 'TETPinf'),\n",
    "    'ALO':('ReCiPe Midpoint (H)', 'agricultural land occupation', 'ALOP'),\n",
    "    'NLT':('ReCiPe Midpoint (H)', 'natural land transformation', 'NLTP'),\n",
    "    'ULO':('ReCiPe Midpoint (H)', 'urban land occupation', 'ULOP'),\n",
    "    'WD':('ReCiPe Midpoint (H)', 'water depletion', 'WDP'),\n",
    "    'FE':('ReCiPe Midpoint (H)', 'freshwater eutrophication', 'FEP'),\n",
    "    'R_HH' : ('ReCiPe Endpoint (H,A)', 'human health', 'total'),\n",
    "    'R_EQ' : ('ReCiPe Endpoint (H,A)', 'ecosystem quality', 'total'),\n",
    "    'R_R' : ('ReCiPe Endpoint (H,A)', 'resources', 'total'),\n",
    "    'R_Total' : ('ReCiPe Endpoint (H,A)', 'total', 'total'),\n",
    "    \n",
    "    'CEDB': ('cumulative energy demand','biomass','renewable energy resources, biomass'),\n",
    "      'CEDF': ('cumulative energy demand','fossil','non-renewable energy resources, fossil'),\n",
    "      'CEDG': ('cumulative energy demand','geothermal','renewable energy resources, geothermal, converted'),\n",
    "      'CEDN': ('cumulative energy demand','nuclear','non-renewable energy resources, nuclear'),\n",
    "      'CEDFr': ('cumulative energy demand','primary forest','non-renewable energy resources, primary forest'),\n",
    "      'CEDS': ('cumulative energy demand','solar','renewable energy resources, solar, converted'),\n",
    "      'CEDH': ('cumulative energy demand','water','renewable energy resources, potential (in barrage water), converted'),\n",
    "      'CEDW': ('cumulative energy demand','wind','renewable energy resources, kinetic (in wind), converted')\n",
    "\n",
    "    }"
   ]
  },
  {
   "cell_type": "code",
   "execution_count": 7,
   "metadata": {},
   "outputs": [
    {
     "name": "stdout",
     "output_type": "stream",
     "text": [
      "Flow added to method: ('IPCC 2013', 'climate change', 'GWP 100a')\n",
      "Characterisation factor: -1.0\n",
      "Flow added to method: ('ReCiPe Endpoint (H,A)', 'human health', 'total')\n",
      "Characterisation factor: -0.277227722772\n",
      "Flow added to method: ('ReCiPe Endpoint (H,A)', 'ecosystem quality', 'total')\n",
      "Characterisation factor: -0.175224928177\n",
      "Flow added to method: ('ReCiPe Endpoint (H,A)', 'total', 'total')\n",
      "Characterisation factor: -0.452452650949\n"
     ]
    }
   ],
   "source": [
    "for cat in lcia_methods:\n",
    "    method  = Method(lcia_methods[cat])\n",
    "    method_data = method.load()\n",
    "    #first make sure we don't already have the flow included:\n",
    "    if [x for x in method_data if co2_to_storage.key[1] in x[0][1]]:\n",
    "        print('Flow already present- you must have run this code already.')\n",
    "        continue\n",
    "    \n",
    "    else:\n",
    "        try:\n",
    "            characterized_flow = [x for x in method_data if co2_to_soil.key[1] in x[0][1]][0]\n",
    "        except:\n",
    "            continue\n",
    "        \n",
    "        method_data.extend([(co2_to_storage.key, characterized_flow[1]) ])\n",
    "            \n",
    "        print('Flow added to method: {}'.format(method.name))\n",
    "        print('Characterisation factor: {}'.format(characterized_flow[1]))\n",
    "        \n",
    "        orig_name = [x for x in method.name]\n",
    "        new_method = Method(tuple(orig_name +['CO2 storage']))\n",
    "        new_method.register()\n",
    "        new_method.write(method_data)\n",
    "        new_method.process()        "
   ]
  },
  {
   "cell_type": "code",
   "execution_count": 8,
   "metadata": {},
   "outputs": [
    {
     "data": {
      "text/plain": [
       "[('IPCC 2013', 'climate change', 'GWP 100a', 'CO2 storage'),\n",
       " ('ReCiPe Endpoint (H,A)', 'human health', 'total', 'CO2 storage'),\n",
       " ('ReCiPe Endpoint (H,A)', 'ecosystem quality', 'total', 'CO2 storage'),\n",
       " ('ReCiPe Endpoint (H,A)', 'total', 'total', 'CO2 storage')]"
      ]
     },
     "execution_count": 8,
     "metadata": {},
     "output_type": "execute_result"
    }
   ],
   "source": [
    "new_methods = [x for x in methods if 'CO2 storage' in str(x)]\n",
    "new_methods"
   ]
  },
  {
   "cell_type": "code",
   "execution_count": 9,
   "metadata": {},
   "outputs": [
    {
     "data": {
      "text/plain": [
       "[(('biosphere3', '259cf8d6-6ea8-4ccf-84b7-23c930a5b2b3'), -1.0),\n",
       " (('biosphere3', '8ae4d8bb-3e4b-4825-8325-94696d7a64fd'), -1.0),\n",
       " (('biosphere3', '60d424f7-d5a9-4549-9540-da06684bc3bb'), -1.0),\n",
       " (('biosphere3', '375bc95e-6596-4aa1-9716-80ff51b9da77'), -1.0),\n",
       " (('biosphere3', '49c594c6-b6a8-42a3-95c5-cca812fda80b'), 4.0624),\n",
       " (('biosphere3', 'a3beb5ac-5149-47f6-a035-53fc5030f10a'), 4.0624),\n",
       " (('biosphere3', '099b36ab-4c03-4587-87f4-2f81e337afb8'), 4.0624),\n",
       " (('biosphere3', 'ba2f3f82-c93a-47a5-822a-37ec97495275'), 4.0624),\n",
       " (('biosphere3', '6edcc2df-88a3-48e1-83d8-ffc38d31c35b'), 4.0624),\n",
       " (('biosphere3', 'bd086aa3-312a-47af-a7b2-04fddbf8f01e'), 4.0624),\n",
       " (('biosphere3', 'e1da7e11-cc2c-4ea2-a42a-bf558150014b'), 4.0624),\n",
       " (('biosphere3', '68b9b577-90cf-49e4-88bb-a55d80f3ac5d'), 4.0624),\n",
       " (('biosphere3', '69a6c884-39be-444f-a67c-7436a5e66de2'), 4.0624),\n",
       " (('biosphere3', '51c58d09-0699-4d51-80b3-a1bb2b9313e4'), 4.0624),\n",
       " (('biosphere3', '588356df-f3b4-43a7-a76e-c47175a7eae0'), 2.491),\n",
       " (('biosphere3', '968495ec-1000-438a-9e11-467776ebb54e'), 2.491),\n",
       " (('biosphere3', 'b821ad93-ba6a-4d74-b6ae-ca12cd9563d7'), 2.491),\n",
       " (('biosphere3', '2cb2333c-1599-46cf-8435-3dffce627524'), 2.491),\n",
       " (('biosphere3', '9afa0173-ecbd-4f2c-9c5c-b3128a032812'), 2.491),\n",
       " (('biosphere3', '78259cf2-1bb2-41ec-941c-9d70909df094'), 16.40180896),\n",
       " (('biosphere3', '98af3079-fb76-488d-8afe-713814e14d36'), 16.40180896),\n",
       " (('biosphere3', 'fa9b9736-6de8-4bd6-ba22-1bd78c798373'), 16.40180896),\n",
       " (('biosphere3', 'fbf6ab3a-74e3-4cbe-b61d-959728bdce46'), 16.40180896),\n",
       " (('biosphere3', '4cadbc9f-0472-4bb9-a942-df5b90e37878'), 16.40180896),\n",
       " (('biosphere3', '81305cda-63f1-4c1a-99c6-2c2568550ec4'), 264.8),\n",
       " (('biosphere3', '473826ae-125a-4b02-8c8e-c84322491d80'), 264.8),\n",
       " (('biosphere3', 'afd6d670-bbb0-4625-9730-04088a5b035e'), 264.8),\n",
       " (('biosphere3', '20185046-64bb-4c09-a8e7-e8a9e144ca98'), 264.8),\n",
       " (('biosphere3', '6dc1b46f-ee89-4495-95c4-b8a637bcd6cb'), 264.8),\n",
       " (('biosphere3', '647ae26f-f2fe-44cb-ac81-39bb7736f28e'), 1301.27019996),\n",
       " (('biosphere3', '75fe1a2c-49fa-49e4-90f1-8f102508a96d'), 1301.27019996),\n",
       " (('biosphere3', '16fcd4f9-0bb8-4b84-8334-3ffb1a17aa74'), 1301.27019996),\n",
       " (('biosphere3', 'e87f039d-d9ce-4242-ac18-c9284cc80f3d'), 1301.27019996),\n",
       " (('biosphere3', 'fa0c2bee-8dd9-4f8a-8489-b1f3b43de958'), 1301.27019996),\n",
       " (('biosphere3', 'f8ee4881-a003-4e18-aa2a-d9daf97d76f7'), 160.09863099),\n",
       " (('biosphere3', '9e7d019f-c8c0-4631-9bbb-ced3e081c90d'), 160.09863099),\n",
       " (('biosphere3', '99585564-bfce-4845-9aaa-2f24b8f26a41'), 160.09863099),\n",
       " (('biosphere3', 'ce6294f5-2ed7-46ee-a967-33e265e34455'), 160.09863099),\n",
       " (('biosphere3', '818cee9e-231c-4b53-8ed2-47a0001802d5'), 160.09863099),\n",
       " (('biosphere3', 'bf580c6b-1b4d-429d-bed7-1e335920941f'), 4804.43907777),\n",
       " (('biosphere3', '5eb2d548-1694-496d-b3bd-a439984fca7d'), 4804.43907777),\n",
       " (('biosphere3', '5253e322-7de5-42aa-9167-daf22ff44031'), 4804.43907777),\n",
       " (('biosphere3', 'e86bfec2-1025-4fa2-90b1-81e35e621e91'), 4804.43907777),\n",
       " (('biosphere3', 'f43b2b80-f5a6-4d31-9980-0754305a978d'), 4804.43907777),\n",
       " (('biosphere3', 'd2025041-20ee-41bb-b2c8-47631e839ff0'), 5823.72618701),\n",
       " (('biosphere3', '53b87932-00c8-4bf4-b519-ecd3c401ed4d'), 5823.72618701),\n",
       " (('biosphere3', '47c12d99-c2dc-41cf-bad1-cd31c2fe0421'), 5823.72618701),\n",
       " (('biosphere3', 'cacfd448-6c2d-4061-9363-fd506b979f25'), 5823.72618701),\n",
       " (('biosphere3', '9b132374-dce2-4ce0-86aa-53201b30f617'), 5823.72618701),\n",
       " (('biosphere3', 'b018c97d-8fea-4258-b4d3-6a65669c77f4'), 782.03725986),\n",
       " (('biosphere3', '8c193650-c4ae-4e9a-b25b-eaa7b2b9ea2d'), 782.03725986),\n",
       " (('biosphere3', '416eedbd-a7b4-4693-8031-9bfaa2f20ebc'), 782.03725986),\n",
       " (('biosphere3', '843fd145-61ac-4fa7-a608-ce4ac4d88d49'), 782.03725986),\n",
       " (('biosphere3', '033d3a16-e1a2-4ce8-8769-f4ea867801ca'), 782.03725986),\n",
       " (('biosphere3', '94ca9e00-5268-4663-a0cd-25026c7c6b53'), 137.56020393),\n",
       " (('biosphere3', 'fff3d2db-2784-4044-a6a2-2bc7242456ee'), 137.56020393),\n",
       " (('biosphere3', '1c4a106a-53bc-40f5-bcae-d30ab191dbfe'), 137.56020393),\n",
       " (('biosphere3', '9cf9bf0e-86fe-42c0-90cc-bfed96fbdc8f'), 137.56020393),\n",
       " (('biosphere3', '393d0862-04cc-45ae-8d08-9dc2a4461b35'), 137.56020393),\n",
       " (('biosphere3', 'ba3120e9-7412-4517-812c-752edeac5472'), 0.89826217),\n",
       " (('biosphere3', 'cab70244-9e25-42d3-b31e-ddabfd3eeb67'), 0.89826217),\n",
       " (('biosphere3', '89324b2f-1e73-4eb1-9716-96b9be0349ac'), 0.89826217),\n",
       " (('biosphere3', '03758df7-503a-400e-bc7b-ec05825761a5'), 0.89826217),\n",
       " (('biosphere3', '468bebea-17ee-49d3-b11d-c603d91c67c8'), 0.89826217),\n",
       " (('biosphere3', '1e060d5a-cd41-4f30-9c93-272403b7e004'), 8592.20208449),\n",
       " (('biosphere3', '7d05319a-1260-45e0-8872-d5ff1712ea7e'), 8592.20208449),\n",
       " (('biosphere3', '1584734d-c5c8-42a5-aa51-0f6a92a9cc0d'), 8592.20208449),\n",
       " (('biosphere3', '8a3a44e4-e2f1-476d-9e9e-a90fda263fe3'), 8592.20208449),\n",
       " (('biosphere3', '3b30d058-02ef-4ed2-b357-5fc1a45c63e7'), 8592.20208449),\n",
       " (('biosphere3', '50432644-8568-444e-b7e7-8e37a7e1f3e3'), 1982.03546266),\n",
       " (('biosphere3', '1652c2e3-c6c5-49e1-9ad1-34c188087ca6'), 1982.03546266),\n",
       " (('biosphere3', '95b6f6da-49f9-413d-8ff5-5342d6cff588'), 1982.03546266),\n",
       " (('biosphere3', 'ba781ac6-cdf1-4a09-86b5-76b19ed3438b'), 1982.03546266),\n",
       " (('biosphere3', '400be66e-4383-482a-93e3-c005e96de261'), 1982.03546266),\n",
       " (('biosphere3', 'f322122f-3059-4cfb-8754-efc82548e7f0'), 79.36717675),\n",
       " (('biosphere3', '2fff3bda-1eec-4166-9969-bc9e757c8e8e'), 79.36717675),\n",
       " (('biosphere3', '2cbc6042-2cee-4668-8017-d7f805d9029e'), 79.36717675),\n",
       " (('biosphere3', '050da0cd-2957-45a9-ae7a-ace372083fe5'), 79.36717675),\n",
       " (('biosphere3', 'db907ff7-6cf0-4f88-9376-116262dfad6d'), 79.36717675),\n",
       " (('biosphere3', '0bf92802-8b5e-43f5-a261-95c06bd5c551'), 526.54777691),\n",
       " (('biosphere3', '9b7e5cbf-e1eb-420d-ad43-248df23457ee'), 526.54777691),\n",
       " (('biosphere3', '71a6ea76-6642-4573-bed2-c1884e6792fd'), 526.54777691),\n",
       " (('biosphere3', '60268f3d-468b-487e-acb1-24d7250cb6b3'), 526.54777691),\n",
       " (('biosphere3', '27f61651-96a5-45c7-9873-832626cf6905'), 526.54777691),\n",
       " (('biosphere3', '4925cde1-9f43-43d3-bcf1-4865b8de6634'), 7665.36131656),\n",
       " (('biosphere3', '30533fd3-b19c-44fc-9a88-fb6b12409b47'), 7665.36131656),\n",
       " (('biosphere3', '6f8ce7a4-d66a-4593-9314-51778aa09d4b'), 7665.36131656),\n",
       " (('biosphere3', 'ec8789e5-d140-4ca8-b7ef-b3abfd044414'), 7665.36131656),\n",
       " (('biosphere3', '15e54d5b-aba2-40a6-9aa8-aa2b8c432129'), 7665.36131656),\n",
       " (('biosphere3', 'b7e0bddf-7b8a-43f4-9319-6f4b3d9fa65a'), 11123.4939199),\n",
       " (('biosphere3', '7f62f535-e81a-476c-9c39-4d59f289db1a'), 11123.4939199),\n",
       " (('biosphere3', '8f3e0579-d07d-48c9-b41a-fb559728f9c0'), 11123.4939199),\n",
       " (('biosphere3', 'acc39720-dda7-4b3a-80c7-c6394cad4191'), 11123.4939199),\n",
       " (('biosphere3', 'df5dd437-2e12-4af6-8f7a-9c8224857dc5'), 11123.4939199),\n",
       " (('biosphere3', 'dc9520c7-6e4a-42fb-b1f6-9fa8f34667a4'), 3169.25517622),\n",
       " (('biosphere3', '40022b1f-8906-4c54-a074-bf1a3fc9b13f'), 3169.25517622),\n",
       " (('biosphere3', '84386543-b148-465b-9265-ad638c12e263'), 3169.25517622),\n",
       " (('biosphere3', '281e1011-f121-4d5b-ad4d-22d562b2c2cd'), 3169.25517622),\n",
       " (('biosphere3', '5d1701c5-c4ef-49c7-8a68-ce7c255eee9f'), 3169.25517622),\n",
       " (('biosphere3', 'b53d3744-3629-4219-be20-980865e54031'), 29.7),\n",
       " (('biosphere3', '09e231fa-b1c2-4d63-9c57-7ea0e2210858'), 2.3545465),\n",
       " (('biosphere3', '6bdb666d-e227-4f57-9b1d-d25009d3c44b'), 2.3545465),\n",
       " (('biosphere3', '701cda28-4722-431c-b52f-05a735ef5ed3'), 2.3545465),\n",
       " (('biosphere3', '8c283de2-50d3-40c8-8bff-1e172c3398f8'), 2.3545465),\n",
       " (('biosphere3', '4bf1c333-419b-4278-ac14-247c8bf563d6'), 2.3545465),\n",
       " (('biosphere3', '06a4fedf-dab4-4ef1-90df-1d0ce8fe6477'), 1746.48198701),\n",
       " (('biosphere3', '50f528ca-45e7-42d0-b399-998ea63ddabf'), 1746.48198701),\n",
       " (('biosphere3', '494eb62d-3e16-4a81-b344-6d6dfd9fd4e2'), 1746.48198701),\n",
       " (('biosphere3', 'ee31ac2a-9336-4ed6-8077-9663003bc2f9'), 1746.48198701),\n",
       " (('biosphere3', '816c43d1-bc30-4a72-81db-08cb6be4da4f'), 1746.48198701),\n",
       " (('biosphere3', '96b52062-5e2f-40de-921a-f443c08862e4'), 6291.62957595),\n",
       " (('biosphere3', 'cf719b78-9834-4649-a1dd-8554c366c83f'), 6291.62957595),\n",
       " (('biosphere3', '82957257-07f3-4536-ac8b-175cb2353c75'), 6291.62957595),\n",
       " (('biosphere3', '4ac2ffc3-312e-4e2d-88c4-2630d4a73d8c'), 6291.62957595),\n",
       " (('biosphere3', '18ddd879-5496-4419-8ab7-e0d3864d977d'), 6291.62957595),\n",
       " (('biosphere3', '9b505d7c-4239-40e0-9dbe-55d38f3b85b3'), 1764.62950881),\n",
       " (('biosphere3', '26991da1-c263-4707-9f85-78685acc94dc'), 1764.62950881),\n",
       " (('biosphere3', '56b7d3b6-83d7-42b0-a65b-5ad23e29db47'), 1764.62950881),\n",
       " (('biosphere3', '18c582fe-7336-4138-8797-2db8b7a754c7'), 1764.62950881),\n",
       " (('biosphere3', '8ca6c84b-7f56-47e6-8d17-4f2dbc49a943'), 1764.62950881),\n",
       " (('biosphere3', '5dfb74d2-fa15-4f2d-bf7c-5aa45a41ec7f'), 13893.352601),\n",
       " (('biosphere3', 'b9c1ac70-e2eb-4fcd-bc63-befa92866af5'), 13893.352601),\n",
       " (('biosphere3', '23a9f33d-dbab-4fcc-8f49-1df731b0b827'), 13893.352601),\n",
       " (('biosphere3', 'e06e2e1e-ad87-49e2-a184-f2d1c48b7b46'), 13893.352601),\n",
       " (('biosphere3', '43bc4fc0-bfeb-46d6-b3de-f69c3ccd622a'), 13893.352601),\n",
       " (('biosphere3', 'f903c2fb-71bf-4568-99fc-6aa7ed7bc922'), 8.9151946),\n",
       " (('biosphere3', 'b328d33e-9a9f-407d-a767-5c64ccdc163f'), 8.9151946),\n",
       " (('biosphere3', 'd4b61c6c-a620-4a91-afc6-ca87ef97b55a'), 8.9151946),\n",
       " (('biosphere3', '432a3326-73f8-4752-bc4d-06b7b4b1243c'), 8.9151946),\n",
       " (('biosphere3', '2716807d-0266-48ff-bb7a-6e6c5fbfd5c5'), 8.9151946),\n",
       " (('biosphere3', '31f8976a-6f7d-487e-a850-eb495dbf0351'), 10239.2345992),\n",
       " (('biosphere3', '1013b9ec-a7b5-459c-be3d-74f61b9ce06e'), 10239.2345992),\n",
       " (('biosphere3', 'e93ba406-3df8-4e34-be54-0d556b2bb629'), 10239.2345992),\n",
       " (('biosphere3', 'c0e8ec60-a5ae-432e-97a5-cf76b6247a00'), 10239.2345992),\n",
       " (('biosphere3', '31a3e44c-4098-461e-aba2-f79540e05087'), 10239.2345992),\n",
       " (('biosphere3', '34de4196-871a-4db8-a182-589ab780a935'), 147.66224518),\n",
       " (('biosphere3', 'de8d76cb-7216-4e6f-8bf2-8cdf76e99902'), 147.66224518),\n",
       " (('biosphere3', '727835b8-c650-4d46-882f-35b2a366b559'), 147.66224518),\n",
       " (('biosphere3', '04a6edb8-624a-484e-8f85-d771657adae7'), 147.66224518),\n",
       " (('biosphere3', '3c8af80d-7ff8-43f4-b1a7-cef73b1b4682'), 147.66224518),\n",
       " (('biosphere3', '33a791a2-a1e7-446b-b25a-b3be6159bae4'), 676.80778461),\n",
       " (('biosphere3', '20d0fc73-b9ce-4001-ac15-893b30ed10a3'), 676.80778461),\n",
       " (('biosphere3', '8fbe2c56-c213-4501-b95e-ff57a76fbd6f'), 676.80778461),\n",
       " (('biosphere3', '151212b4-079b-43a2-96d5-a6eef59166ac'), 676.80778461),\n",
       " (('biosphere3', 'c9028b09-c12d-421b-9944-7d145e196ebc'), 676.80778461),\n",
       " (('biosphere3', 'f3bd723a-5276-4ae8-9860-b89537351a90'), 29.7),\n",
       " (('biosphere3', '6b1b495b-70ee-4be6-b1c2-3031aa4d6add'), 29.7),\n",
       " (('biosphere3', '70ef743b-3ed5-4a6d-b192-fb6d62378555'), 29.7),\n",
       " (('biosphere3', '0795345f-c7ae-410c-ad25-1845784c75f5'), 29.7),\n",
       " (('biosphere3', '5f7aad3d-566c-4d0d-ad59-e765f971aa0f'), 29.7),\n",
       " (('biosphere3', 'f757365c-c6fd-41fe-ad32-3594ccd97ef0'), 29.7),\n",
       " (('biosphere3', 'ef4566f0-60d5-4bbe-a2cb-7268a81fecd4'), 29.7),\n",
       " (('biosphere3', '9541a975-800f-4fed-9edf-28f6e411a015'), 29.7),\n",
       " (('biosphere3', '7f0ba7c9-341e-413d-80f6-8753727d65d1'), 29.7),\n",
       " (('biosphere3', '299c6564-426e-48c3-b516-fdf301d12127'), 29.7),\n",
       " (('biosphere3', '246c87af-4495-4977-8d39-eae397c1c8f1'), 12.18322764),\n",
       " (('biosphere3', '0f70e720-127e-44dc-bb85-438158235ab6'), 12.18322764),\n",
       " (('biosphere3', 'ed63abd0-7cc6-4825-8759-b367e560fe95'), 12.18322764),\n",
       " (('biosphere3', '18ea247b-edc2-43fe-89bd-cedd04102bcc'), 12.18322764),\n",
       " (('biosphere3', '370447a7-70d1-47bd-8577-0a32c4f53570'), 12.18322764),\n",
       " (('biosphere3', '6c977009-5c4e-4901-a4c1-ab20389cb972'), 28.5),\n",
       " (('biosphere3', '258263a0-6be3-4439-bd84-efee0498b849'), 28.5),\n",
       " (('biosphere3', '57bdb443-d4a6-423d-8024-959b8261d02e'), 28.5),\n",
       " (('biosphere3', 'da1157e2-7593-4dfd-80dd-a3449b37a4d8'), 28.5),\n",
       " (('biosphere3', 'baf58fc9-573c-419c-8c16-831ac03203b9'), 28.5),\n",
       " (('biosphere3', 'ba5c9458-44df-4d93-a7c3-9389f65166d8'), 1728.47068126),\n",
       " (('biosphere3', '6c833956-6302-47c3-8abc-7ecae92266fb'), 1728.47068126),\n",
       " (('biosphere3', '0f9f3e17-eb81-4adb-8170-049bc6b66728'), 1728.47068126),\n",
       " (('biosphere3', '86d12e70-0c64-4ecf-ba52-114fa0c5d402'), 1728.47068126),\n",
       " (('biosphere3', '5c97dd6c-aaa5-4477-aaf8-dbd0674499c4'), 1728.47068126),\n",
       " (('biosphere3', 'e59a199f-d4ed-4d43-82b1-71c4a8fae867'), 6625.78042077),\n",
       " (('biosphere3', '6d023c39-c04e-4305-b2e4-adc89b53e708'), 6625.78042077),\n",
       " (('biosphere3', 'b353e7d2-5b94-4b6e-a3e5-de0a10bef851'), 6625.78042077),\n",
       " (('biosphere3', '33681770-a0e1-4ce8-93c3-941fd607fa5f'), 6625.78042077),\n",
       " (('biosphere3', 'dfe1da1e-7756-4f7e-a393-6d5e2342a962'), 6625.78042077),\n",
       " (('biosphere3', '3feb6415-ae50-4bb7-b9d1-c18d99f8a87f'), 4662.93699438),\n",
       " (('biosphere3', '6e61b542-5681-44f4-afcb-e30368bca420'), 4662.93699438),\n",
       " (('biosphere3', 'a916ca1b-4ece-4630-a563-ae3253efc04f'), 4662.93699438),\n",
       " (('biosphere3', '51e99a55-bcdb-4d18-9484-6de4b142e09d'), 4662.93699438),\n",
       " (('biosphere3', '33a69662-583b-45b8-8cb9-94f59fca9133'), 4662.93699438),\n",
       " (('biosphere3', 'dc78690a-2b0a-49fc-8272-b811fb25ff6c'), 12397.6034385),\n",
       " (('biosphere3', 'a3724600-89c1-4f35-97c9-0de3adbadc8b'), 12397.6034385),\n",
       " (('biosphere3', '5e2e1740-1bb9-4157-b816-6cb5aa006437'), 12397.6034385),\n",
       " (('biosphere3', 'e5ba3517-a93f-422e-9ce2-f1007fcf6c06'), 12397.6034385),\n",
       " (('biosphere3', '8f87dcf1-0177-4d62-bea0-a5dd8647ef8c'), 12397.6034385),\n",
       " (('biosphere3', '4c097625-506e-4dfc-a170-75fda90cf7cb'), 16069.997634),\n",
       " (('biosphere3', 'fdf090d7-ee05-4f33-8b7f-5504c718c3cd'), 16069.997634),\n",
       " (('biosphere3', 'f8cf5fd7-9f94-4870-9e6a-768deae9b766'), 16069.997634),\n",
       " (('biosphere3', 'e79e03c3-5b19-45f6-b3f3-bf710c6663d2'), 16069.997634),\n",
       " (('biosphere3', '1fdc280a-34d3-4513-b110-3f526b17c443'), 16069.997634),\n",
       " (('biosphere3', 'e2ccc98a-6d4e-443b-b11f-d16f32782833'), 8546.70453046),\n",
       " (('biosphere3', 'acbae70a-5450-448f-9038-c403cb496e1a'), 23506.8199932),\n",
       " (('biosphere3', '44e4d1ce-fa79-4ed5-93f9-445c4ff8df2e'), 23506.8199932),\n",
       " (('biosphere3', 'c7c769bb-89b9-4459-afed-e3acecd39339'), 23506.8199932),\n",
       " (('biosphere3', '35d1dff5-b535-4628-9826-4a8fce08a1f2'), 23506.8199932),\n",
       " (('biosphere3', '856c9aa2-c20c-49a8-9417-c71bdb5f17b0'), 23506.8199932),\n",
       " (('biosphere3', 'CO2 to geological storage, non-fossil'), -1.0)]"
      ]
     },
     "execution_count": 9,
     "metadata": {},
     "output_type": "execute_result"
    }
   ],
   "source": [
    "Method(new_methods[0]).load()[10:]"
   ]
  },
  {
   "cell_type": "code",
   "execution_count": null,
   "metadata": {
    "collapsed": true
   },
   "outputs": [],
   "source": []
  }
 ],
 "metadata": {
  "kernelspec": {
   "display_name": "Python 3",
   "language": "python",
   "name": "python3"
  },
  "language_info": {
   "codemirror_mode": {
    "name": "ipython",
    "version": 3
   },
   "file_extension": ".py",
   "mimetype": "text/x-python",
   "name": "python",
   "nbconvert_exporter": "python",
   "pygments_lexer": "ipython3",
   "version": "3.6.6"
  },
  "toc": {
   "colors": {
    "hover_highlight": "#DAA520",
    "running_highlight": "#FF0000",
    "selected_highlight": "#FFD700"
   },
   "moveMenuLeft": true,
   "nav_menu": {
    "height": "12px",
    "width": "252px"
   },
   "navigate_menu": true,
   "number_sections": true,
   "sideBar": true,
   "threshold": 4,
   "toc_cell": false,
   "toc_section_display": "block",
   "toc_window_display": false,
   "widenNotebook": false
  }
 },
 "nbformat": 4,
 "nbformat_minor": 2
}
